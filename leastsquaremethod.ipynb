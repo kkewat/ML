{
  "nbformat": 4,
  "nbformat_minor": 0,
  "metadata": {
    "colab": {
      "provenance": [],
      "authorship_tag": "ABX9TyOFqoNFQgcnKysLqYhbDUrD",
      "include_colab_link": true
    },
    "kernelspec": {
      "name": "python3",
      "display_name": "Python 3"
    },
    "language_info": {
      "name": "python"
    }
  },
  "cells": [
    {
      "cell_type": "markdown",
      "metadata": {
        "id": "view-in-github",
        "colab_type": "text"
      },
      "source": [
        "<a href=\"https://colab.research.google.com/github/kkewat/ML/blob/main/leastsquaremethod.ipynb\" target=\"_parent\"><img src=\"https://colab.research.google.com/assets/colab-badge.svg\" alt=\"Open In Colab\"/></a>"
      ]
    },
    {
      "cell_type": "code",
      "execution_count": 1,
      "metadata": {
        "id": "AWZt0XdhGxzL"
      },
      "outputs": [],
      "source": [
        "import pandas as pd"
      ]
    },
    {
      "cell_type": "code",
      "source": [
        "# Function to calculate b\n",
        "def calculateB(x, y, n):\n",
        "\n",
        "\t# sum of array x\n",
        "\tsx = sum(x)\n",
        "\n",
        "\t# sum of array y\n",
        "\tsy = sum(y)\n",
        "\n",
        "\t# for sum of product of x and y\n",
        "\tsxsy = 0\n",
        "\n",
        "\t# sum of square of x\n",
        "\tsx2 = 0\n",
        "\n",
        "\tfor i in range(n):\n",
        "\t\tsxsy += x[i] * y[i]\n",
        "\t\tsx2 += x[i] * x[i]\n",
        "\tb = (n * sxsy - sx * sy)/(n * sx2 - sx * sx)\n",
        "\treturn b"
      ],
      "metadata": {
        "id": "i8C1jMt2HQCm"
      },
      "execution_count": 2,
      "outputs": []
    },
    {
      "cell_type": "code",
      "source": [
        "# Function to find the\n",
        "# least regression line\n",
        "def leastRegLine(X,Y,n):\n",
        "\n",
        "\t# Finding b\n",
        "\tb = calculateB(X, Y, n)\n",
        "\tmeanX = int(sum(X)/n)\n",
        "\tmeanY = int(sum(Y)/n)\n",
        "\n",
        "\t# Calculating a\n",
        "\ta = meanY - b * meanX\n",
        "\n",
        "\t# Printing regression line\n",
        "\tprint(\"Regression line:\")\n",
        "\tprint(\"Y = \", '%.3f'%a, \" + \", '%.3f'%b, \"*X\", sep=\"\")"
      ],
      "metadata": {
        "id": "ThgDUWnXHhnM"
      },
      "execution_count": 3,
      "outputs": []
    },
    {
      "cell_type": "code",
      "source": [
        "datas = pd.read_csv('data.csv')\n",
        "print(datas )"
      ],
      "metadata": {
        "colab": {
          "base_uri": "https://localhost:8080/"
        },
        "id": "aQKai3ukH8vc",
        "outputId": "61c8bf8d-7f05-4bf1-f802-7c3992ee3afd"
      },
      "execution_count": 6,
      "outputs": [
        {
          "output_type": "stream",
          "name": "stdout",
          "text": [
            "   SNO  TEMPERATURE  PRESSURE\n",
            "0    1            0    0.0002\n",
            "1    2           20    0.0012\n",
            "2    3           40    0.0060\n",
            "3    4           60    0.0300\n",
            "4    5           80    0.0900\n",
            "5    6          100    0.2700\n"
          ]
        }
      ]
    },
    {
      "cell_type": "code",
      "source": [
        "X = datas.TEMPERATURE\n",
        "Y = datas.PRESSURE\n",
        "n = len(X)\n",
        "leastRegLine(X, Y, n)"
      ],
      "metadata": {
        "colab": {
          "base_uri": "https://localhost:8080/"
        },
        "id": "oiL8okddIW3P",
        "outputId": "307967de-5006-47d1-a3f9-e62395ad3a82"
      },
      "execution_count": 7,
      "outputs": [
        {
          "output_type": "stream",
          "name": "stdout",
          "text": [
            "Regression line:\n",
            "Y = -0.117 + 0.002*X\n"
          ]
        }
      ]
    }
  ]
}