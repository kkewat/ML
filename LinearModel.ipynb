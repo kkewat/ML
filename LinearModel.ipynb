{
  "nbformat": 4,
  "nbformat_minor": 0,
  "metadata": {
    "colab": {
      "provenance": [],
      "authorship_tag": "ABX9TyMi3QvscuIJ9cF6jdsvTqcs",
      "include_colab_link": true
    },
    "kernelspec": {
      "name": "python3",
      "display_name": "Python 3"
    },
    "language_info": {
      "name": "python"
    }
  },
  "cells": [
    {
      "cell_type": "markdown",
      "metadata": {
        "id": "view-in-github",
        "colab_type": "text"
      },
      "source": [
        "<a href=\"https://colab.research.google.com/github/kkewat/ML/blob/main/LinearModel.ipynb\" target=\"_parent\"><img src=\"https://colab.research.google.com/assets/colab-badge.svg\" alt=\"Open In Colab\"/></a>"
      ]
    },
    {
      "cell_type": "code",
      "execution_count": null,
      "metadata": {
        "colab": {
          "base_uri": "https://localhost:8080/"
        },
        "id": "k7hvg1on1guf",
        "outputId": "fa503347-cca4-42bc-da96-f1d578d989b5"
      },
      "outputs": [
        {
          "output_type": "stream",
          "name": "stdout",
          "text": [
            "Outcome : [140.]\n",
            "Coefficients : [1. 2. 3.]\n"
          ]
        }
      ],
      "source": [
        "# python library to generate random numbers\n",
        "from random import randint\n",
        "\n",
        "# the limit within which random numbers are generated\n",
        "TRAIN_SET_LIMIT = 1000\n",
        "\n",
        "# to create exactly 100 data items\n",
        "TRAIN_SET_COUNT = 100\n",
        "\n",
        "# list that contains input and corresponding output\n",
        "TRAIN_INPUT = list()\n",
        "TRAIN_OUTPUT = list()\n",
        "\n",
        "# loop to create 100 data items with three columns each\n",
        "for i in range(TRAIN_SET_COUNT):\n",
        "\ta = randint(0, TRAIN_SET_LIMIT)\n",
        "\tb = randint(0, TRAIN_SET_LIMIT)\n",
        "\tc = randint(0, TRAIN_SET_LIMIT)\n",
        "\n",
        "# creating the output for each data item\n",
        "\top = a + (2 * b) + (3 * c)\n",
        "\tTRAIN_INPUT.append([a, b, c])\n",
        "\n",
        "# adding each output to output list\n",
        "\tTRAIN_OUTPUT.append(op)\n",
        "\n",
        "# Sk-Learn contains the linear regression model\n",
        "from sklearn.linear_model import LinearRegression\n",
        "\n",
        "# Initialize the linear regression model\n",
        "predictor = LinearRegression(n_jobs =-1)\n",
        "\n",
        "# Fill the Model with the Data\n",
        "predictor.fit(X = TRAIN_INPUT, y = TRAIN_OUTPUT)\n",
        "\n",
        "\n",
        "# Random Test data\n",
        "X_TEST = [[ 10, 20, 30 ]]\n",
        "\n",
        "# Predict the result of X_TEST which holds testing data\n",
        "outcome = predictor.predict(X = X_TEST)\n",
        "\n",
        "# Predict the coefficients\n",
        "coefficients = predictor.coef_\n",
        "\n",
        "# Print the result obtained for the test data\n",
        "print('Outcome : {}\\nCoefficients : {}'.format(outcome, coefficients))"
      ]
    }
  ]
}